{
 "cells": [
  {
   "cell_type": "code",
   "execution_count": 27,
   "id": "343f8bdc",
   "metadata": {},
   "outputs": [
    {
     "name": "stdout",
     "output_type": "stream",
     "text": [
      "      * \n",
      "    * * * \n",
      "  * * * * * \n",
      "      * \n",
      "    * * * \n",
      "  * * * * * \n"
     ]
    }
   ],
   "source": [
    "n=3\n",
    "\n",
    "for a in range(n):\n",
    "    for b in range(a,n):\n",
    "        print(\" \",end=\" \")\n",
    "    for c in range (a+1):\n",
    "        print(\"*\", end=\" \")\n",
    "    for d in range(a):\n",
    "        print(\"*\", end=\" \")\n",
    "    print()\n",
    "    \n",
    "for a in range(n):\n",
    "    for b in range(a,n):\n",
    "        print(\" \",end=\" \")\n",
    "    for c in range (a+1):\n",
    "        print(\"*\", end=\" \")\n",
    "    for d in range(a):\n",
    "        print(\"*\", end=\" \")\n",
    "    print()\n",
    "\n",
    "\n",
    "    "
   ]
  },
  {
   "cell_type": "code",
   "execution_count": 58,
   "id": "28b9c001",
   "metadata": {},
   "outputs": [
    {
     "name": "stdout",
     "output_type": "stream",
     "text": [
      "      * \n",
      "    * * * \n",
      "  * * * * * \n",
      "      * \n",
      "    * * * \n",
      "  * * * * * \n",
      "      * \n",
      "    * * * \n",
      "  * * * * * \n",
      " "
     ]
    }
   ],
   "source": [
    "for z in range(3):\n",
    "    n=3\n",
    "    for a in range(n):\n",
    "        for b in range(a,n):\n",
    "            print(\" \",end=\" \")\n",
    "        for c in range (a):\n",
    "            print(\"*\", end=\" \")\n",
    "        for d in range(a+1):\n",
    "            print(\"*\", end=\" \")\n",
    "        print()\n",
    "print(end=\" \")\n"
   ]
  },
  {
   "cell_type": "code",
   "execution_count": null,
   "id": "2f981c01",
   "metadata": {},
   "outputs": [],
   "source": []
  },
  {
   "cell_type": "code",
   "execution_count": null,
   "id": "1cc64681",
   "metadata": {},
   "outputs": [],
   "source": [
    "#💋🥹🥺😊😄😜😅😝❤️😕🥸🥺🤯🤬🤑🤢🤮🎃🧠🗣🫁👀👗👒👠🧣🐷🐰\n",
    "# 🐹🐭🦁🐒🦄🫎🪲🪰🐍🦎🦖🐙🦑🪼🦐🦞🌱🌿☘️🍀🪴🌼🌺🪷🌕\n",
    "# 🌖🌗🔥🌝🌞🌻💐🌷🍁🌹🥀🍄☔️🫧💦☂️🌫❄️☃️🥑🫛🥦🥬🥒🌶🫑🥝🥥\n",
    "# 🍒🫐🍓🍏🍎🍐🍇🍌🍮🎂🍢🍡🍧🍨🍤🍥🍺⚽️🏀🏓🥎🥏\n",
    "# 🦚🦜🌲🌾🌈🪐🌘🌑🌒🌚🍮🍭🏅🎖🏆🥇⛳️🏔⛰🌋🇰🇭\n",
    "🟢💚🟩🍏🥗📗"
   ]
  },
  {
   "cell_type": "code",
   "execution_count": null,
   "id": "a18a25d5",
   "metadata": {},
   "outputs": [
    {
     "name": "stdout",
     "output_type": "stream",
     "text": [
      "                        🦖  \n",
      "                    🦖  🦖  🦖  \n",
      "                🦖  🦖  🦖  🦖  🦖  \n",
      "            🦖  🦖  🦖  🦖  🦖  🦖  🦖  \n",
      "        🦖  🦖  🦖  🦖  🦖  🦖  🦖  🦖  🦖  \n",
      "    🦖  🦖  🦖  🦖  🦖  🦖  🦖  🦖  🦖  🦖  🦖  \n",
      "                        🍄  \n",
      "                    🍄  🍄  🍄  \n",
      "                🍄  🍄  🍄  🍄  🍄  \n",
      "            🍄  🍄  🍄  🍄  🍄  🍄  🍄  \n",
      "        🍄  🍄  🍄  🍄  🍄  🍄  🍄  🍄  🍄  \n",
      "    🍄  🍄  🍄  🍄  🍄  🍄  🍄  🍄  🍄  🍄  🍄  \n",
      "                        ❄  \n",
      "                    ❄  ❄  ❄  \n",
      "                ❄  ❄  ❄  ❄  ❄  \n",
      "            ❄  ❄  ❄  ❄  ❄  ❄  ❄  \n",
      "        ❄  ❄  ❄  ❄  ❄  ❄  ❄  ❄  ❄  \n",
      "    ❄  ❄  ❄  ❄  ❄  ❄  ❄  ❄  ❄  ❄  ❄  \n",
      "                        ️  \n",
      "                    ️  ️  ️  \n",
      "                ️  ️  ️  ️  ️  \n",
      "            ️  ️  ️  ️  ️  ️  ️  \n",
      "        ️  ️  ️  ️  ️  ️  ️  ️  ️  \n",
      "    ️  ️  ️  ️  ️  ️  ️  ️  ️  ️  ️  \n",
      "                        ☃  \n",
      "                    ☃  ☃  ☃  \n",
      "                ☃  ☃  ☃  ☃  ☃  \n",
      "            ☃  ☃  ☃  ☃  ☃  ☃  ☃  \n",
      "        ☃  ☃  ☃  ☃  ☃  ☃  ☃  ☃  ☃  \n",
      "    ☃  ☃  ☃  ☃  ☃  ☃  ☃  ☃  ☃  ☃  ☃  \n",
      "                        ️  \n",
      "                    ️  ️  ️  \n",
      "                ️  ️  ️  ️  ️  \n",
      "            ️  ️  ️  ️  ️  ️  ️  \n",
      "        ️  ️  ️  ️  ️  ️  ️  ️  ️  \n",
      "    ️  ️  ️  ️  ️  ️  ️  ️  ️  ️  ️  \n",
      "                        🌲  \n",
      "                    🌲  🌲  🌲  \n",
      "                🌲  🌲  🌲  🌲  🌲  \n",
      "            🌲  🌲  🌲  🌲  🌲  🌲  🌲  \n",
      "        🌲  🌲  🌲  🌲  🌲  🌲  🌲  🌲  🌲  \n",
      "    🌲  🌲  🌲  🌲  🌲  🌲  🌲  🌲  🌲  🌲  🌲  \n",
      "                        🫐  \n",
      "                    🫐  🫐  🫐  \n",
      "                🫐  🫐  🫐  🫐  🫐  \n",
      "            🫐  🫐  🫐  🫐  🫐  🫐  🫐  \n",
      "        🫐  🫐  🫐  🫐  🫐  🫐  🫐  🫐  🫐  \n",
      "    🫐  🫐  🫐  🫐  🫐  🫐  🫐  🫐  🫐  🫐  🫐  \n",
      "                        🍓  \n",
      "                    🍓  🍓  🍓  \n",
      "                🍓  🍓  🍓  🍓  🍓  \n",
      "            🍓  🍓  🍓  🍓  🍓  🍓  🍓  \n",
      "        🍓  🍓  🍓  🍓  🍓  🍓  🍓  🍓  🍓  \n",
      "    🍓  🍓  🍓  🍓  🍓  🍓  🍓  🍓  🍓  🍓  🍓  \n",
      "                        🍏  \n",
      "                    🍏  🍏  🍏  \n",
      "                🍏  🍏  🍏  🍏  🍏  \n",
      "            🍏  🍏  🍏  🍏  🍏  🍏  🍏  \n",
      "        🍏  🍏  🍏  🍏  🍏  🍏  🍏  🍏  🍏  \n",
      "    🍏  🍏  🍏  🍏  🍏  🍏  🍏  🍏  🍏  🍏  🍏  \n",
      "                        🍎  \n",
      "                    🍎  🍎  🍎  \n",
      "                🍎  🍎  🍎  🍎  🍎  \n",
      "            🍎  🍎  🍎  🍎  🍎  🍎  🍎  \n",
      "        🍎  🍎  🍎  🍎  🍎  🍎  🍎  🍎  🍎  \n",
      "    🍎  🍎  🍎  🍎  🍎  🍎  🍎  🍎  🍎  🍎  🍎  \n",
      "                        🍐  \n",
      "                    🍐  🍐  🍐  \n",
      "                🍐  🍐  🍐  🍐  🍐  \n",
      "            🍐  🍐  🍐  🍐  🍐  🍐  🍐  \n",
      "        🍐  🍐  🍐  🍐  🍐  🍐  🍐  🍐  🍐  \n",
      "    🍐  🍐  🍐  🍐  🍐  🍐  🍐  🍐  🍐  🍐  🍐  \n",
      "                        🍇  \n",
      "                    🍇  🍇  🍇  \n",
      "                🍇  🍇  🍇  🍇  🍇  \n",
      "            🍇  🍇  🍇  🍇  🍇  🍇  🍇  \n",
      "        🍇  🍇  🍇  🍇  🍇  🍇  🍇  🍇  🍇  \n",
      "    🍇  🍇  🍇  🍇  🍇  🍇  🍇  🍇  🍇  🍇  🍇  \n",
      " "
     ]
    }
   ],
   "source": [
    "# 🌖🌗🔥🌝🌞🌻💐🌷🍁🌹🥀🍄☔️🫧💦☂️🌫❄️☃️🥑🫛🥦🥬🥒🌶🫑🥝🥥\n",
    "for symbol in \"🦖🍄❄️☃️🌲🫐🍓🍏🍎🍐🍇\":\n",
    "    n=6\n",
    "    for a in range(n):\n",
    "        for b in range(a,n):\n",
    "            print(\"  \",end=\"  \")\n",
    "        for c in range (a+1):\n",
    "            print(symbol, end=\"  \")\n",
    "        for d in range(a):\n",
    "            print(symbol, end=\"  \")\n",
    "        print()\n",
    "print(end=\" \")"
   ]
  }
 ],
 "metadata": {
  "kernelspec": {
   "display_name": "Python 3",
   "language": "python",
   "name": "python3"
  },
  "language_info": {
   "codemirror_mode": {
    "name": "ipython",
    "version": 3
   },
   "file_extension": ".py",
   "mimetype": "text/x-python",
   "name": "python",
   "nbconvert_exporter": "python",
   "pygments_lexer": "ipython3",
   "version": "3.12.4"
  }
 },
 "nbformat": 4,
 "nbformat_minor": 5
}
