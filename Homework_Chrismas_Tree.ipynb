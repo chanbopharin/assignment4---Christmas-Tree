{
 "cells": [
  {
   "cell_type": "code",
   "execution_count": 27,
   "id": "343f8bdc",
   "metadata": {},
   "outputs": [
    {
     "name": "stdout",
     "output_type": "stream",
     "text": [
      "      * \n",
      "    * * * \n",
      "  * * * * * \n",
      "      * \n",
      "    * * * \n",
      "  * * * * * \n"
     ]
    }
   ],
   "source": [
    "n=3\n",
    "\n",
    "for a in range(n):\n",
    "    for b in range(a,n):\n",
    "        print(\" \",end=\" \")\n",
    "    for c in range (a+1):\n",
    "        print(\"*\", end=\" \")\n",
    "    for d in range(a):\n",
    "        print(\"*\", end=\" \")\n",
    "    print()\n",
    "    \n",
    "for a in range(n):\n",
    "    for b in range(a,n):\n",
    "        print(\" \",end=\" \")\n",
    "    for c in range (a+1):\n",
    "        print(\"*\", end=\" \")\n",
    "    for d in range(a):\n",
    "        print(\"*\", end=\" \")\n",
    "    print()\n",
    "\n",
    "\n",
    "    "
   ]
  },
  {
   "cell_type": "code",
   "execution_count": 58,
   "id": "28b9c001",
   "metadata": {},
   "outputs": [
    {
     "name": "stdout",
     "output_type": "stream",
     "text": [
      "      * \n",
      "    * * * \n",
      "  * * * * * \n",
      "      * \n",
      "    * * * \n",
      "  * * * * * \n",
      "      * \n",
      "    * * * \n",
      "  * * * * * \n",
      " "
     ]
    }
   ],
   "source": [
    "for z in range(3):\n",
    "    n=3\n",
    "    for a in range(n):\n",
    "        for b in range(a,n):\n",
    "            print(\" \",end=\" \")\n",
    "        for c in range (a):\n",
    "            print(\"*\", end=\" \")\n",
    "        for d in range(a+1):\n",
    "            print(\"*\", end=\" \")\n",
    "        print()\n",
    "print(end=\" \")\n"
   ]
  },
  {
   "cell_type": "code",
   "execution_count": 70,
   "id": "ff684928",
   "metadata": {},
   "outputs": [
    {
     "name": "stdout",
     "output_type": "stream",
     "text": [
      "      0\n",
      "     000\n",
      "    00000\n",
      "   0000000\n",
      "  000000000\n",
      " 00000000000\n",
      "      1\n",
      "     111\n",
      "    11111\n",
      "   1111111\n",
      "  111111111\n",
      " 11111111111\n",
      "      2\n",
      "     222\n",
      "    22222\n",
      "   2222222\n",
      "  222222222\n",
      " 22222222222\n",
      " "
     ]
    }
   ],
   "source": [
    "for symbol in range(3):\n",
    "    n=6\n",
    "    for a in range(n):\n",
    "        for b in range(a,n):\n",
    "            print(\" \",end=\"\")\n",
    "        for c in range (a+1):\n",
    "            print(symbol, end=\"\")\n",
    "        for d in range(a):\n",
    "            print(symbol, end=\"\")\n",
    "        print()\n",
    "print(end=\" \")"
   ]
  },
  {
   "cell_type": "code",
   "execution_count": null,
   "id": "8d4df897",
   "metadata": {},
   "outputs": [
    {
     "name": "stdout",
     "output_type": "stream",
     "text": [
      "            *\n",
      "          *\n",
      "        *\n",
      "      *\n",
      "    *\n",
      "  *\n"
     ]
    }
   ],
   "source": [
    "for a in range(n):\n",
    "    for b in range(a,n):\n",
    "        print(\" \",end=\" \")\n",
    "    print(\"*\")"
   ]
  },
  {
   "cell_type": "code",
   "execution_count": 96,
   "id": "11ca61c7",
   "metadata": {},
   "outputs": [
    {
     "name": "stdout",
     "output_type": "stream",
     "text": [
      "                  ***\n",
      "                  ***\n",
      "                  ***\n",
      "                  ***\n",
      "                  ***\n",
      "                  ***\n",
      "                  ***\n",
      "                  ***\n",
      "                  ***\n"
     ]
    }
   ],
   "source": [
    "n=9\n",
    "for a in range(n):\n",
    "    for b in range(n):\n",
    "        print(\" \",end=\" \")\n",
    "    print(\"***\")"
   ]
  },
  {
   "cell_type": "code",
   "execution_count": 2,
   "id": "2f981c01",
   "metadata": {},
   "outputs": [
    {
     "name": "stdout",
     "output_type": "stream",
     "text": [
      "            * \n",
      "          * * * \n",
      "        * * * * * \n",
      "      * * * * * * * \n",
      "    * * * * * * * * * \n",
      "  * * * * * * * * * * * \n",
      "             * * * \n",
      "          * * * * * \n",
      "        * * * * * * * \n",
      "      * * * * * * * * * \n",
      "    * * * * * * * * * * * \n",
      "  * * * * * * * * * * * * * \n",
      "             * * * * \n",
      "          * * * * * * \n",
      "        * * * * * * * * \n",
      "      * * * * * * * * * * \n",
      "    * * * * * * * * * * * * \n",
      "  * * * * * * * * * * * * * * \n",
      "           ****\n",
      "          ****\n",
      "          ****\n",
      "          ****\n",
      "          ****\n",
      "          ****\n"
     ]
    }
   ],
   "source": [
    "n=6     \n",
    "for a in range(n):\n",
    "        for b in range(a,n):\n",
    "            print(\" \",end=\" \")\n",
    "        for c in range (a+1):\n",
    "            print(\"*\", end=\" \")\n",
    "        for d in range(a):\n",
    "            print(\"*\", end=\" \")\n",
    "        print()\n",
    "print(end=\" \")\n",
    "n=6     \n",
    "for a in range(n):\n",
    "        for b in range(a,n):\n",
    "            print(\" \",end=\" \")\n",
    "        for c in range (a+1):\n",
    "            print(\"*\", end=\" \")\n",
    "        for d in range(a+2):\n",
    "            print(\"*\", end=\" \")\n",
    "        print()\n",
    "print(end=\" \")\n",
    "n=6     \n",
    "for a in range(n):\n",
    "        for b in range(a,n):\n",
    "            print(\" \",end=\" \")\n",
    "        for c in range (a+1):\n",
    "            print(\"*\", end=\" \")\n",
    "        for d in range(a+3):\n",
    "            print(\"*\", end=\" \")\n",
    "        print()\n",
    "print(end=\" \")\n",
    "n=6\n",
    "for a in range(n):\n",
    "    for b in range(n-1):\n",
    "        print(\" \",end=\" \")\n",
    "    print(\"****\")"
   ]
  }
 ],
 "metadata": {
  "kernelspec": {
   "display_name": "Python 3",
   "language": "python",
   "name": "python3"
  },
  "language_info": {
   "codemirror_mode": {
    "name": "ipython",
    "version": 3
   },
   "file_extension": ".py",
   "mimetype": "text/x-python",
   "name": "python",
   "nbconvert_exporter": "python",
   "pygments_lexer": "ipython3",
   "version": "3.12.4"
  }
 },
 "nbformat": 4,
 "nbformat_minor": 5
}
