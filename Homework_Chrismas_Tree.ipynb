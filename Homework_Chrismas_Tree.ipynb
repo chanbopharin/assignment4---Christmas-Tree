{
 "cells": [
  {
   "cell_type": "code",
   "execution_count": 142,
   "id": "c858b285",
   "metadata": {},
   "outputs": [
    {
     "name": "stdout",
     "output_type": "stream",
     "text": [
      "\n",
      "*\n",
      "***\n",
      "*****\n",
      "*******\n",
      "*********\n"
     ]
    }
   ],
   "source": [
    "#Homework1\n",
    "n=6     \n",
    "for a in range(n):\n",
    "        for b in range (a*2-1):\n",
    "            print(\"*\",end=\"\")\n",
    "\n",
    "        print()"
   ]
  },
  {
   "cell_type": "code",
   "execution_count": null,
   "id": "d93804c4",
   "metadata": {},
   "outputs": [
    {
     "name": "stdout",
     "output_type": "stream",
     "text": [
      "         \n",
      "        *\n",
      "       ***\n",
      "      *****\n",
      "     *******\n",
      "    *********\n",
      "   ***********\n",
      "  *************\n",
      " ***************\n"
     ]
    }
   ],
   "source": [
    "#Homework2\n",
    "n=9\n",
    "for a in range(n):\n",
    "        for b in range(a,n):\n",
    "            print(\"\",end=\" \")\n",
    "        for c in range (a*2-1):\n",
    "            print(\"*\",end=\"\")\n",
    "\n",
    "        print()"
   ]
  },
  {
   "cell_type": "code",
   "execution_count": 138,
   "id": "fd8c922f",
   "metadata": {},
   "outputs": [
    {
     "name": "stdout",
     "output_type": "stream",
     "text": [
      "          \n",
      "        * \n",
      "      * * * \n",
      "    * * * * * \n",
      "  * * * * * * * \n",
      "        * * * \n",
      "      * * * * * \n",
      "    * * * * * * * \n",
      "  * * * * * * * * * \n",
      "        * * * * * \n",
      "      * * * * * * * \n",
      "    * * * * * * * * * \n",
      "  * * * * * * * * * * * \n",
      "          ****\n",
      "          ****\n",
      "          ****\n",
      "          ****\n",
      "          ****\n",
      "          ****\n",
      "          ****\n"
     ]
    }
   ],
   "source": [
    "#Homework3\n",
    "n=5   \n",
    "for a in range(n):\n",
    "        for b in range(a,n):\n",
    "            print(\" \",end=\" \")\n",
    "        for c in range (a*2-1):\n",
    "            print(\"*\",end=\" \")\n",
    "        print()\n",
    "n=6  \n",
    "for a in range(2,n):\n",
    "        for b in range(a,n):\n",
    "            print(\" \",end=\" \")\n",
    "        for c in range (a*2-1):\n",
    "            print(\"*\",end=\" \")  \n",
    "        print()\n",
    "n=7\n",
    "for a in range(3,n):\n",
    "        for b in range(a,n):\n",
    "            print(\" \",end=\" \")\n",
    "        for c in range (a*2-1):\n",
    "            print(\"*\",end=\" \")\n",
    "\n",
    "        print()\n",
    "for a in range(n):\n",
    "    for b in range(n-2):\n",
    "        print(\" \",end=\" \")\n",
    "    print(\"****\")"
   ]
  }
 ],
 "metadata": {
  "kernelspec": {
   "display_name": "Python 3",
   "language": "python",
   "name": "python3"
  },
  "language_info": {
   "codemirror_mode": {
    "name": "ipython",
    "version": 3
   },
   "file_extension": ".py",
   "mimetype": "text/x-python",
   "name": "python",
   "nbconvert_exporter": "python",
   "pygments_lexer": "ipython3",
   "version": "3.12.4"
  }
 },
 "nbformat": 4,
 "nbformat_minor": 5
}
